{
 "cells": [
  {
   "cell_type": "code",
   "execution_count": 2,
   "id": "13563071-c9c2-4cde-91c1-bd9d329f4e24",
   "metadata": {
    "execution": {
     "iopub.execute_input": "2023-04-20T15:50:23.291990Z",
     "iopub.status.busy": "2023-04-20T15:50:23.291387Z",
     "iopub.status.idle": "2023-04-20T15:50:23.838518Z",
     "shell.execute_reply": "2023-04-20T15:50:23.838066Z",
     "shell.execute_reply.started": "2023-04-20T15:50:23.291957Z"
    },
    "tags": []
   },
   "outputs": [],
   "source": [
    "from maap.maap import MAAP\n",
    "maap = MAAP()"
   ]
  },
  {
   "cell_type": "code",
   "execution_count": null,
   "id": "b76ff822-f9e8-4094-bfbc-8f0e08e680c2",
   "metadata": {},
   "outputs": [],
   "source": []
  },
  {
   "cell_type": "code",
   "execution_count": 3,
   "id": "bd10d843-9d5e-4e1c-bdb4-aaebca8a9598",
   "metadata": {
    "execution": {
     "iopub.execute_input": "2023-04-20T15:50:26.262218Z",
     "iopub.status.busy": "2023-04-20T15:50:26.257529Z",
     "iopub.status.idle": "2023-04-20T15:50:26.618845Z",
     "shell.execute_reply": "2023-04-20T15:50:26.613659Z",
     "shell.execute_reply.started": "2023-04-20T15:50:26.262136Z"
    },
    "tags": []
   },
   "outputs": [
    {
     "data": {
      "text/plain": [
       "[]"
      ]
     },
     "execution_count": 3,
     "metadata": {},
     "output_type": "execute_result"
    }
   ],
   "source": [
    "# generated from this EDSC search: https://ade.dit.maap-project.org:30052/search?p=!C1342986035-GES_DISC!C1342986036-GES_DISC!C1700900796-GES_DISC&pg[1][v]=t&pg[2][v]=t&pg[3][v]=t&q=GLDAS&long=0.0703125\n",
    "maap.searchCollection(concept_id=\"C1700900796-GES_DISC|C1342986036-GES_DISC|C1342986035-GES_DISC\", limit=1000)"
   ]
  },
  {
   "cell_type": "code",
   "execution_count": null,
   "id": "2f8ab797-1111-472e-b64d-175a977e5b54",
   "metadata": {},
   "outputs": [],
   "source": []
  },
  {
   "cell_type": "code",
   "execution_count": null,
   "id": "cabe8744-5f9d-4bf2-ab3a-46cc2f05390e",
   "metadata": {},
   "outputs": [],
   "source": [
    "# generated from this EDSC search: https://ade.dit.maap-project.org:30052/search?p=!C1342986035-GES_DISC!C1342986036-GES_DISC!C1700900796-GES_DISC&pg[1][v]=t&pg[2][v]=t&pg[3][v]=t&q=GLDAS&long=0.0703125\n",
    "[\n",
    "]"
   ]
  }
 ],
 "metadata": {
  "kernelspec": {
   "display_name": "Python 3 (ipykernel)",
   "language": "python",
   "name": "python3"
  },
  "language_info": {
   "codemirror_mode": {
    "name": "ipython",
    "version": 3
   },
   "file_extension": ".py",
   "mimetype": "text/x-python",
   "name": "python",
   "nbconvert_exporter": "python",
   "pygments_lexer": "ipython3",
   "version": "3.9.16"
  }
 },
 "nbformat": 4,
 "nbformat_minor": 5
}
