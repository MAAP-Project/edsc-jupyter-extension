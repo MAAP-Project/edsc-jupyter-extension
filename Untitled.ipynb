{
 "cells": [
  {
   "cell_type": "code",
   "execution_count": 1,
   "id": "eabaad3a-01bc-40df-9328-29fde8d872f9",
   "metadata": {
    "execution": {
     "iopub.execute_input": "2023-04-19T23:31:37.756373Z",
     "iopub.status.busy": "2023-04-19T23:31:37.755560Z",
     "iopub.status.idle": "2023-04-19T23:31:37.780415Z",
     "shell.execute_reply": "2023-04-19T23:31:37.778535Z",
     "shell.execute_reply.started": "2023-04-19T23:31:37.756328Z"
    },
    "tags": []
   },
   "outputs": [
    {
     "name": "stdout",
     "output_type": "stream",
     "text": [
      "hello\n"
     ]
    }
   ],
   "source": [
    "print(\"hello\")"
   ]
  },
  {
   "cell_type": "code",
   "execution_count": null,
   "id": "64a02bd7-d981-4ea7-8cce-f7ce8c23b55a",
   "metadata": {},
   "outputs": [],
   "source": []
  }
 ],
 "metadata": {
  "kernelspec": {
   "display_name": "Python 3 (ipykernel)",
   "language": "python",
   "name": "python3"
  },
  "language_info": {
   "codemirror_mode": {
    "name": "ipython",
    "version": 3
   },
   "file_extension": ".py",
   "mimetype": "text/x-python",
   "name": "python",
   "nbconvert_exporter": "python",
   "pygments_lexer": "ipython3",
   "version": "3.9.16"
  }
 },
 "nbformat": 4,
 "nbformat_minor": 5
}
