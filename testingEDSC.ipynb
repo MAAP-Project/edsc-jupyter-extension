{
 "cells": [
  {
   "cell_type": "code",
   "execution_count": 1,
   "id": "13563071-c9c2-4cde-91c1-bd9d329f4e24",
   "metadata": {
    "execution": {
     "iopub.execute_input": "2023-05-02T18:37:35.089376Z",
     "iopub.status.busy": "2023-05-02T18:37:35.087877Z",
     "iopub.status.idle": "2023-05-02T18:37:37.623662Z",
     "shell.execute_reply": "2023-05-02T18:37:37.623281Z",
     "shell.execute_reply.started": "2023-05-02T18:37:35.089300Z"
    },
    "tags": []
   },
   "outputs": [],
   "source": [
    "from maap.maap import MAAP\n",
    "maap = MAAP()"
   ]
  },
  {
   "cell_type": "code",
   "execution_count": null,
   "id": "b76ff822-f9e8-4094-bfbc-8f0e08e680c2",
   "metadata": {},
   "outputs": [],
   "source": []
  },
  {
   "cell_type": "code",
   "execution_count": null,
   "id": "deb6418c-922a-4672-b623-8bb7e8c5f1fb",
   "metadata": {},
   "outputs": [],
   "source": [
    "# generated from this EDSC search: https://ade.dit.maap-project.org:30052/search?long=-0.0703125\n",
    "maap.searchCollection(limit=1000)"
   ]
  },
  {
   "cell_type": "code",
   "execution_count": null,
   "id": "76c4959b-096e-4067-9b92-eeb0a0193fe9",
   "metadata": {},
   "outputs": [],
   "source": [
    "# generated from this EDSC search: https://ade.dit.maap-project.org:30052/search?long=-0.0703125\n",
    "maap.searchGranule(limit=1000)"
   ]
  }
 ],
 "metadata": {
  "kernelspec": {
   "display_name": "Python 3 (ipykernel)",
   "language": "python",
   "name": "python3"
  },
  "language_info": {
   "codemirror_mode": {
    "name": "ipython",
    "version": 3
   },
   "file_extension": ".py",
   "mimetype": "text/x-python",
   "name": "python",
   "nbconvert_exporter": "python",
   "pygments_lexer": "ipython3",
   "version": "3.9.16"
  }
 },
 "nbformat": 4,
 "nbformat_minor": 5
}
